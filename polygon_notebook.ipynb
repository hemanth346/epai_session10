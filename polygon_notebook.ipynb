{
 "cells": [
  {
   "cell_type": "markdown",
   "id": "92db3dfb",
   "metadata": {},
   "source": [
    "# polygon module : objective -1"
   ]
  },
  {
   "cell_type": "code",
   "execution_count": 1,
   "id": "7522c612",
   "metadata": {},
   "outputs": [],
   "source": [
    "from polygon import Polygon"
   ]
  },
  {
   "cell_type": "code",
   "execution_count": 2,
   "id": "d3a94732",
   "metadata": {},
   "outputs": [],
   "source": [
    "p1 = Polygon(4,10)"
   ]
  },
  {
   "cell_type": "code",
   "execution_count": 3,
   "id": "52b38734",
   "metadata": {},
   "outputs": [
    {
     "data": {
      "text/plain": [
       "This is a polygon of 4 edges with circumradius: 10"
      ]
     },
     "execution_count": 3,
     "metadata": {},
     "output_type": "execute_result"
    }
   ],
   "source": [
    "p1"
   ]
  },
  {
   "cell_type": "code",
   "execution_count": 4,
   "id": "619cd673",
   "metadata": {},
   "outputs": [
    {
     "data": {
      "text/plain": [
       "4"
      ]
     },
     "execution_count": 4,
     "metadata": {},
     "output_type": "execute_result"
    }
   ],
   "source": [
    "p1.no_of_edges"
   ]
  },
  {
   "cell_type": "code",
   "execution_count": 5,
   "id": "4c309f6c",
   "metadata": {},
   "outputs": [
    {
     "data": {
      "text/plain": [
       "10"
      ]
     },
     "execution_count": 5,
     "metadata": {},
     "output_type": "execute_result"
    }
   ],
   "source": [
    "p1.circumradius"
   ]
  },
  {
   "cell_type": "code",
   "execution_count": 6,
   "id": "19675983",
   "metadata": {},
   "outputs": [
    {
     "data": {
      "text/plain": [
       "90.0"
      ]
     },
     "execution_count": 6,
     "metadata": {},
     "output_type": "execute_result"
    }
   ],
   "source": [
    "p1.interior_angle"
   ]
  },
  {
   "cell_type": "code",
   "execution_count": 7,
   "id": "cbbe58a5",
   "metadata": {},
   "outputs": [
    {
     "data": {
      "text/plain": [
       "14.142135623730951"
      ]
     },
     "execution_count": 7,
     "metadata": {},
     "output_type": "execute_result"
    }
   ],
   "source": [
    "p1.edge_length"
   ]
  },
  {
   "cell_type": "code",
   "execution_count": 8,
   "id": "622dff7f",
   "metadata": {},
   "outputs": [
    {
     "data": {
      "text/plain": [
       "7.0710678118654755"
      ]
     },
     "execution_count": 8,
     "metadata": {},
     "output_type": "execute_result"
    }
   ],
   "source": [
    "p1.apothem"
   ]
  },
  {
   "cell_type": "code",
   "execution_count": 9,
   "id": "f6caa29d",
   "metadata": {},
   "outputs": [
    {
     "data": {
      "text/plain": [
       "200.00000000000003"
      ]
     },
     "execution_count": 9,
     "metadata": {},
     "output_type": "execute_result"
    }
   ],
   "source": [
    "p1.area"
   ]
  },
  {
   "cell_type": "code",
   "execution_count": 10,
   "id": "ff92ab6a",
   "metadata": {},
   "outputs": [
    {
     "data": {
      "text/plain": [
       "56.568542494923804"
      ]
     },
     "execution_count": 10,
     "metadata": {},
     "output_type": "execute_result"
    }
   ],
   "source": [
    "p1.perimeter"
   ]
  },
  {
   "cell_type": "code",
   "execution_count": 11,
   "id": "c47379d9",
   "metadata": {},
   "outputs": [],
   "source": [
    "p2 = Polygon(4,10)\n",
    "p3 = Polygon(6,10)"
   ]
  },
  {
   "cell_type": "code",
   "execution_count": 12,
   "id": "9cd51051",
   "metadata": {},
   "outputs": [
    {
     "data": {
      "text/plain": [
       "True"
      ]
     },
     "execution_count": 12,
     "metadata": {},
     "output_type": "execute_result"
    }
   ],
   "source": [
    "p1 == p2 # equal to (==) operator"
   ]
  },
  {
   "cell_type": "code",
   "execution_count": 13,
   "id": "797144fe",
   "metadata": {},
   "outputs": [
    {
     "data": {
      "text/plain": [
       "True"
      ]
     },
     "execution_count": 13,
     "metadata": {},
     "output_type": "execute_result"
    }
   ],
   "source": [
    "p3>p1 # greater than(>) operator"
   ]
  },
  {
   "cell_type": "code",
   "execution_count": 14,
   "id": "2034218f",
   "metadata": {},
   "outputs": [
    {
     "name": "stdout",
     "output_type": "stream",
     "text": [
      "Help on Polygon in module polygon object:\n",
      "\n",
      "class Polygon(builtins.object)\n",
      " |  Polygon(no_of_edges: int, circumradius: float) -> None\n",
      " |  \n",
      " |  This is a class which generates a regular strict convex polygon with desired vertex and circumradius\n",
      " |  \n",
      " |  Methods defined here:\n",
      " |  \n",
      " |  __eq__(self, other: 'Polygon class') -> bool\n",
      " |      This is a equal to (==) function which checks for the number of edges and circumradius\n",
      " |  \n",
      " |  __gt__(self, other: 'Polygon class') -> bool\n",
      " |      This is a greater than function which calculates based on number of edges.\n",
      " |  \n",
      " |  __init__(self, no_of_edges: int, circumradius: float) -> None\n",
      " |      This is a constructor which initialises the number of edges/vertices and circumradius\n",
      " |  \n",
      " |  __repr__(self) -> str\n",
      " |      This is a representation function\n",
      " |  \n",
      " |  ----------------------------------------------------------------------\n",
      " |  Readonly properties defined here:\n",
      " |  \n",
      " |  apothem\n",
      " |      This is a function which calculates the apothem of the polygon\n",
      " |  \n",
      " |  area\n",
      " |      This is a function which calculates the area of the polygon\n",
      " |  \n",
      " |  edge_length\n",
      " |      This is a function which calculates the edge length of the polygon\n",
      " |  \n",
      " |  interior_angle\n",
      " |      This is a function which calculates the interior angle\n",
      " |  \n",
      " |  perimeter\n",
      " |      This is a function which calculates the perimeter of the polygon\n",
      " |  \n",
      " |  ----------------------------------------------------------------------\n",
      " |  Data descriptors defined here:\n",
      " |  \n",
      " |  __dict__\n",
      " |      dictionary for instance variables (if defined)\n",
      " |  \n",
      " |  __weakref__\n",
      " |      list of weak references to the object (if defined)\n",
      " |  \n",
      " |  ----------------------------------------------------------------------\n",
      " |  Data and other attributes defined here:\n",
      " |  \n",
      " |  __hash__ = None\n",
      "\n"
     ]
    }
   ],
   "source": [
    "help(p1)"
   ]
  },
  {
   "cell_type": "markdown",
   "id": "1969e34d",
   "metadata": {},
   "source": [
    "# polygon-sequence: objective - 2"
   ]
  },
  {
   "cell_type": "code",
   "execution_count": 15,
   "id": "5600c773",
   "metadata": {},
   "outputs": [],
   "source": [
    "from polygon_sequence import Polygon_sequence"
   ]
  },
  {
   "cell_type": "code",
   "execution_count": 16,
   "id": "198c35cc",
   "metadata": {},
   "outputs": [],
   "source": [
    "ps = Polygon_sequence(6,10)"
   ]
  },
  {
   "cell_type": "code",
   "execution_count": 17,
   "id": "71d27fc4",
   "metadata": {},
   "outputs": [
    {
     "data": {
      "text/plain": [
       "This is a polygon sequence of 4 elements with 6 as highest edge with common circumradius: 10"
      ]
     },
     "execution_count": 17,
     "metadata": {},
     "output_type": "execute_result"
    }
   ],
   "source": [
    "ps"
   ]
  },
  {
   "cell_type": "code",
   "execution_count": 18,
   "id": "4b5a3a04",
   "metadata": {},
   "outputs": [
    {
     "data": {
      "text/plain": [
       "4"
      ]
     },
     "execution_count": 18,
     "metadata": {},
     "output_type": "execute_result"
    }
   ],
   "source": [
    "len(ps) # length operator"
   ]
  },
  {
   "cell_type": "code",
   "execution_count": 19,
   "id": "d0dc1510",
   "metadata": {},
   "outputs": [
    {
     "data": {
      "text/plain": [
       "This is a polygon of 4 edges with circumradius: 10"
      ]
     },
     "execution_count": 19,
     "metadata": {},
     "output_type": "execute_result"
    }
   ],
   "source": [
    "ps[1] #getitem operator"
   ]
  },
  {
   "cell_type": "code",
   "execution_count": 20,
   "id": "8581c2c9",
   "metadata": {},
   "outputs": [
    {
     "data": {
      "text/plain": [
       "[This is a polygon of 3 edges with circumradius: 10,\n",
       " This is a polygon of 4 edges with circumradius: 10]"
      ]
     },
     "execution_count": 20,
     "metadata": {},
     "output_type": "execute_result"
    }
   ],
   "source": [
    "ps[0:2] #slicing"
   ]
  },
  {
   "cell_type": "code",
   "execution_count": 21,
   "id": "f992f041",
   "metadata": {},
   "outputs": [
    {
     "data": {
      "text/plain": [
       "'maximum efficient polygon is Number of edges :6 maximum_efficieny is 4.330127018922194'"
      ]
     },
     "execution_count": 21,
     "metadata": {},
     "output_type": "execute_result"
    }
   ],
   "source": [
    "ps.max_efficiency"
   ]
  },
  {
   "cell_type": "code",
   "execution_count": 22,
   "id": "4f797ed9",
   "metadata": {},
   "outputs": [
    {
     "name": "stdout",
     "output_type": "stream",
     "text": [
      "Help on Polygon_sequence in module polygon_sequence object:\n",
      "\n",
      "class Polygon_sequence(builtins.object)\n",
      " |  Polygon_sequence(highest_no_of_edges: int, circumradius: float) -> None\n",
      " |  \n",
      " |  This is a polygon sequence class used to develop a custom sequence\n",
      " |  \n",
      " |  Methods defined here:\n",
      " |  \n",
      " |  __getitem__(self, vertex) -> float\n",
      " |      This function returns the element of the sequence in  the desired vertex\n",
      " |  \n",
      " |  __init__(self, highest_no_of_edges: int, circumradius: float) -> None\n",
      " |      This is a constructor which initialises the highest number of edges/vertices and circumradius\n",
      " |  \n",
      " |  __len__(self) -> int\n",
      " |      This is a length function\n",
      " |  \n",
      " |  __repr__(self) -> str\n",
      " |      This is a representation function\n",
      " |  \n",
      " |  ----------------------------------------------------------------------\n",
      " |  Readonly properties defined here:\n",
      " |  \n",
      " |  max_efficiency\n",
      " |      This function calculates the maximum_efficieny:highest area/perimeter ratio\n",
      " |  \n",
      " |  ----------------------------------------------------------------------\n",
      " |  Data descriptors defined here:\n",
      " |  \n",
      " |  __dict__\n",
      " |      dictionary for instance variables (if defined)\n",
      " |  \n",
      " |  __weakref__\n",
      " |      list of weak references to the object (if defined)\n",
      "\n"
     ]
    }
   ],
   "source": [
    "help(ps)"
   ]
  },
  {
   "cell_type": "code",
   "execution_count": null,
   "id": "b77d5409",
   "metadata": {},
   "outputs": [],
   "source": []
  }
 ],
 "metadata": {
  "kernelspec": {
   "display_name": "Python 3",
   "language": "python",
   "name": "python3"
  },
  "language_info": {
   "codemirror_mode": {
    "name": "ipython",
    "version": 3
   },
   "file_extension": ".py",
   "mimetype": "text/x-python",
   "name": "python",
   "nbconvert_exporter": "python",
   "pygments_lexer": "ipython3",
   "version": "3.8.8"
  }
 },
 "nbformat": 4,
 "nbformat_minor": 5
}
